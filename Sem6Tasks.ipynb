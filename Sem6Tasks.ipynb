{
 "cells": [
  {
   "attachments": {},
   "cell_type": "markdown",
   "id": "5abd94ce",
   "metadata": {},
   "source": [
    "# Урок 6. Расчёт длительности А/B теста + продвинутые топики"
   ]
  },
  {
   "cell_type": "code",
   "execution_count": 47,
   "id": "ef073504",
   "metadata": {},
   "outputs": [],
   "source": [
    "# импорт библиотек\n",
    "from statsmodels.stats.power import tt_ind_solve_power, zt_ind_solve_power\n",
    "from statsmodels.stats.proportion import proportion_effectsize\n",
    "from statsmodels.stats.meta_analysis import effectsize_smd\n",
    "from typing import Union\n",
    "import plotly.graph_objects as go\n",
    "from scipy import stats\n",
    "from math import asin\n",
    "import numpy as np"
   ]
  },
  {
   "cell_type": "markdown",
   "metadata": {},
   "source": [
    "## Задание 1.\n",
    "_Продакт на главной mail.ru решил протестировать в рекомендательной ленте контента вместо карточек со статьями видеоплеер с короткими видео._  \n",
    "Нынешний таймспент на юзера в день в среднем равен **25** минут, а стандартная ошибка (SD) равна **156**.  \n",
    "Мы предполагаем, что в новой версии таймспент на юзера в день изменится на **10%**.  \n",
    "Средний трафик **20000** человек в день.  \n",
    "Посчитайте сколько дней необходимо держать эксперимент при **$\\alpha$ = 5%** и **$\\beta$ = 20%**."
   ]
  },
  {
   "cell_type": "code",
   "execution_count": 48,
   "id": "3182fd11",
   "metadata": {},
   "outputs": [],
   "source": [
    "#Функция расчёта размера эффекта (effect_size) для непрерывных метрик\n",
    "def calc_continuous_effect_size(mean_1: Union[float, int],\n",
    "                                std_1: Union[float, int],\n",
    "                                mean_2: Union[float, int],\n",
    "                                std_2: Union[float, int],\n",
    "                                nobs_1: int = 10_000,\n",
    "                                nobs_2: int = 10_000):\n",
    "    \n",
    "    es_formula = (mean_1 - mean_2) / ((std_1**2 + std_2**2) / 2) ** 0.5\n",
    "    es_import = effectsize_smd(mean_1, std_1, nobs_1, mean_2, std_2, nobs_2)[0]\n",
    "    \n",
    "    return es_formula, es_import "
   ]
  },
  {
   "cell_type": "code",
   "execution_count": 49,
   "id": "89c8773d",
   "metadata": {},
   "outputs": [],
   "source": [
    "#Функция расчёта минимально необходимой выборки * 2(для теста и контроля) для непрерывной метрики\n",
    "def calc_sample_size_continuous(effect_size: float,\n",
    "                                alpha: float = .05,\n",
    "                                beta: float = .2,\n",
    "                                ratio: Union[float, int] = 1):\n",
    "    \n",
    "    n = tt_ind_solve_power(effect_size=effect_size,\n",
    "                           alpha=alpha,\n",
    "                           power=(1 - beta),\n",
    "                           ratio=ratio,\n",
    "                  )\n",
    "    return int(n * 2)"
   ]
  },
  {
   "cell_type": "markdown",
   "id": "5569bf97",
   "metadata": {},
   "source": [
    "По условию таймспент 25 мин, если таймспент на юзера в день изменится на 10%, =>  новый таймспент 27,5 мин.  \n",
    "Стандартная ошибка (SD) равна 156."
   ]
  },
  {
   "cell_type": "code",
   "execution_count": 50,
   "id": "21615df1",
   "metadata": {},
   "outputs": [
    {
     "name": "stdout",
     "output_type": "stream",
     "text": [
      "Размер эффекта (effect_size) для непрерывных метрик составляет -0.016025.\n"
     ]
    }
   ],
   "source": [
    "# Расчитываем effect_size.\n",
    "\n",
    "mu_control, mu_test = 25, 27.5\n",
    "std_control, std_test = 156, 156\n",
    "\n",
    "effect_size = calc_continuous_effect_size(mean_1=mu_control, std_1=std_control, mean_2=mu_test, std_2=std_test)[1]\n",
    "print(f\"Размер эффекта (effect_size) для непрерывных метрик составляет {effect_size:.6f}.\")"
   ]
  },
  {
   "cell_type": "code",
   "execution_count": 51,
   "id": "7224015c",
   "metadata": {},
   "outputs": [
    {
     "name": "stdout",
     "output_type": "stream",
     "text": [
      "Общий размер выборки 122257 человек.\n"
     ]
    }
   ],
   "source": [
    "# Расчитываем минимально необходимую выборку для оценки изменений.\n",
    "\n",
    "selection = calc_sample_size_continuous(effect_size=effect_size, alpha=.05, beta=.2)\n",
    "print(f\"Общий размер выборки {selection} человек.\")"
   ]
  },
  {
   "cell_type": "markdown",
   "id": "a4ff9d74",
   "metadata": {},
   "source": [
    "По условию cредний трафик 20000 человек в день."
   ]
  },
  {
   "cell_type": "code",
   "execution_count": 52,
   "id": "53015ad1",
   "metadata": {},
   "outputs": [
    {
     "name": "stdout",
     "output_type": "stream",
     "text": [
      "Необходимо провести эксперимент в течение 6.11285 дней\n"
     ]
    }
   ],
   "source": [
    "# Расчитаем количество дней для проведения теста.\n",
    "days = selection/20000\n",
    "\n",
    "print(f\"Необходимо провести эксперимент в течение {days} дней\")"
   ]
  },
  {
   "attachments": {},
   "cell_type": "markdown",
   "id": "749fc753",
   "metadata": {},
   "source": [
    "Полученные 6,11285 дней округляем в большую сторону => ~ 7 дней."
   ]
  },
  {
   "cell_type": "markdown",
   "metadata": {},
   "source": [
    "**Ответ:**  \n",
    " \n",
    "При $\\alpha$ = 5% и $\\beta$ = 20% необходимо держать эксперимент **~ 7** дней."
   ]
  },
  {
   "attachments": {},
   "cell_type": "markdown",
   "id": "284e4ba0",
   "metadata": {},
   "source": [
    "## Задание 2."
   ]
  },
  {
   "cell_type": "markdown",
   "metadata": {},
   "source": [
    "_Наша продуктовая команда в ecommerce магазине планирует запустить тест, направленный на ускорение загрузки сайта._   \n",
    "Одна из основных метрик bounce rate в GA = **40%**.  \n",
    "Мы предполагаем, что при оптимизации сайта она изменится минимум на **20%** от текущего показателя.  \n",
    "Средний трафик **4000** человек в день.  \n",
    "Посчитайте сколько нам нужно дней держать эксперимент при $\\alpha$ = **5%** и $\\beta$ = **20%**."
   ]
  },
  {
   "cell_type": "code",
   "execution_count": 53,
   "id": "56324ec1",
   "metadata": {},
   "outputs": [],
   "source": [
    "#Функция расчёта размера эффекта (effect_size) для пропорций\n",
    "def calc_propotion_effect_size(conv_1: int, nobs_1: int, conv_2: int, nobs_2: int):\n",
    "    prob_1, prob_2 = conv_1 / nobs_1, conv_2 / nobs_2\n",
    "    \n",
    "    es_formula = 2  * asin(np.sqrt(prob_1)) - 2 * asin(np.sqrt(prob_2))\n",
    "    es_import = proportion_effectsize(prob_1, prob_2)\n",
    "    \n",
    "    return es_formula, es_import"
   ]
  },
  {
   "cell_type": "code",
   "execution_count": 54,
   "id": "860f1e74",
   "metadata": {},
   "outputs": [],
   "source": [
    "#Функция расчёта минимально необходимой выборки * 2(для теста и контроля) для пропорций\n",
    "def calc_sample_size_proportion(effect_size: float,\n",
    "                                alpha: float = .05,\n",
    "                                beta: float = .2,\n",
    "                                ratio: Union[float, int] = 1):\n",
    "    \n",
    "    n = zt_ind_solve_power(effect_size=effect_size,\n",
    "                           alpha=alpha,\n",
    "                           power=(1 - beta),\n",
    "                           ratio=ratio,\n",
    "                  )\n",
    "    return int(n * 2)"
   ]
  },
  {
   "attachments": {},
   "cell_type": "markdown",
   "id": "2fcbd706",
   "metadata": {},
   "source": [
    "Метрика bounce rate в GA = 40%.  \n",
    "При оптимизации сайта она изменится минимум на 20% от текущего показателя. =>  \n",
    "40% х 0,2 = 8%  \n",
    "40% - 8% = 32% =>  \n",
    "H0=40%   # bounce rate в GA  \n",
    "H1=32%   # bounce rate в GA  "
   ]
  },
  {
   "cell_type": "markdown",
   "metadata": {},
   "source": [
    " \n",
    "Найдем размер выборки для каждой гипотезы, при помощи калькулятора  \n",
    "https://www.evanmiller.org/ab-testing/sample-size.html"
   ]
  },
  {
   "cell_type": "markdown",
   "metadata": {},
   "source": [
    "\n",
    "![Sem6jpg1.jpg](Sem6jpg1.jpg)\n"
   ]
  },
  {
   "attachments": {},
   "cell_type": "markdown",
   "id": "f58c07d0",
   "metadata": {},
   "source": [
    "![Sem6jpg2.jpg](Sem6jpg2.jpg)"
   ]
  },
  {
   "cell_type": "markdown",
   "metadata": {},
   "source": [
    "Размер минимально необходимой выборки **592** человека на каждую гипотезу."
   ]
  },
  {
   "cell_type": "code",
   "execution_count": 55,
   "id": "1c8f1629",
   "metadata": {},
   "outputs": [
    {
     "name": "stdout",
     "output_type": "stream",
     "text": [
      "0.0676, 0.0541\n",
      "Размер эффекта (effect_size) для пропорций составляет 0.056630.\n"
     ]
    }
   ],
   "source": [
    "# Расчитываем размер эффекта (effect_size).\n",
    "conv_1, conv_2 = 40, 32\n",
    "nobs_1, nobs_2 = 592, 592\n",
    "prob_1, prob_2 = conv_1 / nobs_1, conv_2 / nobs_2\n",
    "print(f'{prob_1:.4f}, {prob_2:.4f}')\n",
    "effect_size = calc_propotion_effect_size(conv_1=conv_1, nobs_1=nobs_1, conv_2=conv_2, nobs_2=nobs_2)[0]\n",
    "print(f\"Размер эффекта (effect_size) для пропорций составляет {effect_size:.6f}.\")"
   ]
  },
  {
   "cell_type": "code",
   "execution_count": 56,
   "id": "8e689206",
   "metadata": {},
   "outputs": [
    {
     "name": "stdout",
     "output_type": "stream",
     "text": [
      "Общий размер выборки 9789 человек.\n"
     ]
    }
   ],
   "source": [
    "# Расчитываем минимально необходимую выборку\n",
    "selection = calc_sample_size_proportion(effect_size=effect_size, alpha=.05, beta=.2)\n",
    "\n",
    "print(f\"Общий размер выборки {selection} человек.\")"
   ]
  },
  {
   "cell_type": "markdown",
   "id": "edbbc48e",
   "metadata": {},
   "source": [
    "По условию средний трафик 4000 человек в день."
   ]
  },
  {
   "cell_type": "code",
   "execution_count": 57,
   "id": "60746153",
   "metadata": {},
   "outputs": [
    {
     "name": "stdout",
     "output_type": "stream",
     "text": [
      "Необходимо провести эксперимент в течение 2.44725 дней\n"
     ]
    }
   ],
   "source": [
    "# Расчитаем количество дней.\n",
    "days = selection/4000\n",
    "\n",
    "print(f\"Необходимо провести эксперимент в течение {days} дней\")"
   ]
  },
  {
   "cell_type": "markdown",
   "id": "32b66321",
   "metadata": {},
   "source": [
    "Полученные 2,44725 дней округляем в большую сторону => ~ 3 дня."
   ]
  },
  {
   "cell_type": "markdown",
   "metadata": {},
   "source": [
    "**Ответ:**  \n",
    " \n",
    "При $\\alpha$ = 5% и $\\beta$ = 20% необходимо держать эксперимент **~ 3** дня."
   ]
  }
 ],
 "metadata": {
  "kernelspec": {
   "display_name": "Python 3.11.2 64-bit",
   "language": "python",
   "name": "python3"
  },
  "language_info": {
   "codemirror_mode": {
    "name": "ipython",
    "version": 3
   },
   "file_extension": ".py",
   "mimetype": "text/x-python",
   "name": "python",
   "nbconvert_exporter": "python",
   "pygments_lexer": "ipython3",
   "version": "3.11.2"
  },
  "orig_nbformat": 4,
  "vscode": {
   "interpreter": {
    "hash": "c6bda570d439cef0b73331d70d74997e8c54be07738a0bdb7ee077605f256bd9"
   }
  }
 },
 "nbformat": 4,
 "nbformat_minor": 2
}
