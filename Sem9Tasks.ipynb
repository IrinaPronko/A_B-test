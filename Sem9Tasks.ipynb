{
 "cells": [
  {
   "cell_type": "markdown",
   "metadata": {},
   "source": [
    "# Урок 9. Python применение продвинутых методов "
   ]
  },
  {
   "cell_type": "markdown",
   "metadata": {},
   "source": [
    "## Задание:\n",
    "Проанализируйте результаты эксперимента и напишите свои рекомендации менеджеру.\n",
    "Mobile Games AB Testing with Cookie Cats\n"
   ]
  },
  {
   "cell_type": "markdown",
   "metadata": {},
   "source": [
    "## Решение ##"
   ]
  },
  {
   "cell_type": "code",
   "execution_count": 62,
   "id": "d7eb1126",
   "metadata": {
    "id": "d7eb1126"
   },
   "outputs": [],
   "source": [
    "#Загрузка библиотек\n",
    "\n",
    "import numpy as np\n",
    "import pandas as pd\n",
    "\n",
    "import scipy.stats as stats\n",
    "from statsmodels.stats import proportion\n",
    "\n",
    "import statsmodels.stats.power as smp\n",
    "\n",
    "import matplotlib.pyplot as plt\n",
    "import seaborn as sns\n",
    "\n",
    "import warnings\n",
    "warnings.filterwarnings('ignore')"
   ]
  },
  {
   "cell_type": "markdown",
   "metadata": {
    "id": "zs5xEjRCgGf-"
   },
   "source": [
    "ОБ ИГРЕ:  \n",
    "Cookie Cats — чрезвычайно популярная мобильная игра-головоломка, разработанная Tactile Entertainment. Это классическая игра-головоломка в стиле «соедини три», в которой игрок должен соединять плитки одного цвета (собирать печенье и кормить голодных кошек), чтобы очистить игровое поле и выиграть уровень.  "
   ]
  },
  {
   "cell_type": "markdown",
   "metadata": {},
   "source": [
    "![Sem9jpg1.jpg](Sem9jpg1.jpg)  "
   ]
  },
  {
   "cell_type": "markdown",
   "metadata": {},
   "source": [
    "По мере прохождения уровней игры игроки будут время от времени сталкиваться с воротами, которые заставят их ждать определенное количество времени или совершать покупки в приложении для прохождения.  \n",
    "_Ворота — это паузы в игре, когда пользователь должен совершить покупку в приложении или подождать определенное время,\n",
    "прежде чем перейти на следующий уровень._  \n",
    "Помимо стимулирования покупок в приложении, эти ворота служат важной цели, давая игрокам принудительный перерыв в игре, что должно привести к увеличению и продлению удовольствия игрока от игры."
   ]
  },
  {
   "cell_type": "markdown",
   "metadata": {},
   "source": [
    "![Sem9jpg2.jpg](Sem9jpg2.jpg)  "
   ]
  },
  {
   "cell_type": "markdown",
   "metadata": {},
   "source": [
    "В этом анализе мы ответим на вопрос:  \n",
    "Следует ли перенести ворота с уровня 30 на уровень 40.  \n",
    "Для этого я использую результаты  A/B-тестирования, чтобы решить, на каком уровне разместить ворота в игре."
   ]
  },
  {
   "attachments": {},
   "cell_type": "markdown",
   "metadata": {},
   "source": [
    "### Подготовка данных\n",
    "- загрузка\n",
    "- проверка \n",
    "- обработка и очистка"
   ]
  },
  {
   "cell_type": "code",
   "execution_count": 63,
   "metadata": {},
   "outputs": [
    {
     "data": {
      "text/html": [
       "<div>\n",
       "<style scoped>\n",
       "    .dataframe tbody tr th:only-of-type {\n",
       "        vertical-align: middle;\n",
       "    }\n",
       "\n",
       "    .dataframe tbody tr th {\n",
       "        vertical-align: top;\n",
       "    }\n",
       "\n",
       "    .dataframe thead th {\n",
       "        text-align: right;\n",
       "    }\n",
       "</style>\n",
       "<table border=\"1\" class=\"dataframe\">\n",
       "  <thead>\n",
       "    <tr style=\"text-align: right;\">\n",
       "      <th></th>\n",
       "      <th>userid</th>\n",
       "      <th>version</th>\n",
       "      <th>sum_gamerounds</th>\n",
       "      <th>retention_1</th>\n",
       "      <th>retention_7</th>\n",
       "    </tr>\n",
       "  </thead>\n",
       "  <tbody>\n",
       "    <tr>\n",
       "      <th>0</th>\n",
       "      <td>116</td>\n",
       "      <td>gate_30</td>\n",
       "      <td>3</td>\n",
       "      <td>0</td>\n",
       "      <td>0</td>\n",
       "    </tr>\n",
       "    <tr>\n",
       "      <th>1</th>\n",
       "      <td>337</td>\n",
       "      <td>gate_30</td>\n",
       "      <td>38</td>\n",
       "      <td>1</td>\n",
       "      <td>0</td>\n",
       "    </tr>\n",
       "    <tr>\n",
       "      <th>2</th>\n",
       "      <td>377</td>\n",
       "      <td>gate_40</td>\n",
       "      <td>165</td>\n",
       "      <td>1</td>\n",
       "      <td>0</td>\n",
       "    </tr>\n",
       "    <tr>\n",
       "      <th>3</th>\n",
       "      <td>483</td>\n",
       "      <td>gate_40</td>\n",
       "      <td>1</td>\n",
       "      <td>0</td>\n",
       "      <td>0</td>\n",
       "    </tr>\n",
       "    <tr>\n",
       "      <th>4</th>\n",
       "      <td>488</td>\n",
       "      <td>gate_40</td>\n",
       "      <td>179</td>\n",
       "      <td>1</td>\n",
       "      <td>1</td>\n",
       "    </tr>\n",
       "    <tr>\n",
       "      <th>...</th>\n",
       "      <td>...</td>\n",
       "      <td>...</td>\n",
       "      <td>...</td>\n",
       "      <td>...</td>\n",
       "      <td>...</td>\n",
       "    </tr>\n",
       "    <tr>\n",
       "      <th>90184</th>\n",
       "      <td>9999441</td>\n",
       "      <td>gate_40</td>\n",
       "      <td>97</td>\n",
       "      <td>1</td>\n",
       "      <td>0</td>\n",
       "    </tr>\n",
       "    <tr>\n",
       "      <th>90185</th>\n",
       "      <td>9999479</td>\n",
       "      <td>gate_40</td>\n",
       "      <td>30</td>\n",
       "      <td>0</td>\n",
       "      <td>0</td>\n",
       "    </tr>\n",
       "    <tr>\n",
       "      <th>90186</th>\n",
       "      <td>9999710</td>\n",
       "      <td>gate_30</td>\n",
       "      <td>28</td>\n",
       "      <td>1</td>\n",
       "      <td>0</td>\n",
       "    </tr>\n",
       "    <tr>\n",
       "      <th>90187</th>\n",
       "      <td>9999768</td>\n",
       "      <td>gate_40</td>\n",
       "      <td>51</td>\n",
       "      <td>1</td>\n",
       "      <td>0</td>\n",
       "    </tr>\n",
       "    <tr>\n",
       "      <th>90188</th>\n",
       "      <td>9999861</td>\n",
       "      <td>gate_40</td>\n",
       "      <td>16</td>\n",
       "      <td>0</td>\n",
       "      <td>0</td>\n",
       "    </tr>\n",
       "  </tbody>\n",
       "</table>\n",
       "<p>90189 rows × 5 columns</p>\n",
       "</div>"
      ],
      "text/plain": [
       "        userid  version  sum_gamerounds  retention_1  retention_7\n",
       "0          116  gate_30               3            0            0\n",
       "1          337  gate_30              38            1            0\n",
       "2          377  gate_40             165            1            0\n",
       "3          483  gate_40               1            0            0\n",
       "4          488  gate_40             179            1            1\n",
       "...        ...      ...             ...          ...          ...\n",
       "90184  9999441  gate_40              97            1            0\n",
       "90185  9999479  gate_40              30            0            0\n",
       "90186  9999710  gate_30              28            1            0\n",
       "90187  9999768  gate_40              51            1            0\n",
       "90188  9999861  gate_40              16            0            0\n",
       "\n",
       "[90189 rows x 5 columns]"
      ]
     },
     "execution_count": 63,
     "metadata": {},
     "output_type": "execute_result"
    }
   ],
   "source": [
    "df = pd.read_csv('Sem9Test.csv')\n",
    "df"
   ]
  },
  {
   "cell_type": "code",
   "execution_count": 64,
   "metadata": {},
   "outputs": [
    {
     "name": "stdout",
     "output_type": "stream",
     "text": [
      "<class 'pandas.core.frame.DataFrame'>\n",
      "RangeIndex: 90189 entries, 0 to 90188\n",
      "Data columns (total 5 columns):\n",
      " #   Column          Non-Null Count  Dtype \n",
      "---  ------          --------------  ----- \n",
      " 0   userid          90189 non-null  int64 \n",
      " 1   version         90189 non-null  object\n",
      " 2   sum_gamerounds  90189 non-null  int64 \n",
      " 3   retention_1     90189 non-null  int64 \n",
      " 4   retention_7     90189 non-null  int64 \n",
      "dtypes: int64(4), object(1)\n",
      "memory usage: 3.4+ MB\n"
     ]
    }
   ],
   "source": [
    "df.info()"
   ]
  },
  {
   "cell_type": "markdown",
   "id": "c610ac84",
   "metadata": {
    "id": "c610ac84"
   },
   "source": [
    "**_Описание:_**\n",
    "\n",
    "**userid** - уникальный номер, который идентифицирует каждого игрока.\n",
    "\n",
    "**version** - был ли игрок поставлен в контрольную группу (gate_30 - ворота 30 уровня) или в группу с перемещенными воротами (gate_40 - ворота 40 уровня).\n",
    "\n",
    "**sum_gamerounds** - количество раундов, сыгранных каждым игроком в течение первых 14 дней после установки.\n",
    "\n",
    "**retention_1** - вернулся ли игрок в игру через 1 день после установки.\n",
    "\n",
    "**retention_7** - вернулся ли игрок в игру через 7 дней после установки."
   ]
  },
  {
   "cell_type": "code",
   "execution_count": 65,
   "metadata": {
    "colab": {
     "base_uri": "https://localhost:8080/"
    },
    "id": "hwqQHhcWeHkB",
    "outputId": "4703522f-6f82-44a6-814a-b5a9accdbf90"
   },
   "outputs": [
    {
     "data": {
      "text/plain": [
       "version\n",
       "gate_30    44700\n",
       "gate_40    45489\n",
       "Name: version, dtype: int64"
      ]
     },
     "execution_count": 65,
     "metadata": {},
     "output_type": "execute_result"
    }
   ],
   "source": [
    "df.groupby('version')['version'].count()"
   ]
  },
  {
   "cell_type": "markdown",
   "metadata": {},
   "source": [
    "Количество игроков в обеих тестируемых группах сопоставимо"
   ]
  },
  {
   "cell_type": "code",
   "execution_count": 66,
   "id": "b65cacc0",
   "metadata": {
    "colab": {
     "base_uri": "https://localhost:8080/"
    },
    "id": "b65cacc0",
    "outputId": "9e3abae3-1e5e-432e-8f55-657e90933d6b"
   },
   "outputs": [
    {
     "data": {
      "text/plain": [
       "userid            0\n",
       "version           0\n",
       "sum_gamerounds    0\n",
       "retention_1       0\n",
       "retention_7       0\n",
       "dtype: int64"
      ]
     },
     "execution_count": 66,
     "metadata": {},
     "output_type": "execute_result"
    }
   ],
   "source": [
    "df.isna().sum()"
   ]
  },
  {
   "cell_type": "code",
   "execution_count": 67,
   "id": "9b97e9fa",
   "metadata": {
    "colab": {
     "base_uri": "https://localhost:8080/",
     "height": 49
    },
    "id": "9b97e9fa",
    "outputId": "232dc15c-1b7c-4ef9-c8d5-c2742fd35148"
   },
   "outputs": [
    {
     "data": {
      "text/html": [
       "<div>\n",
       "<style scoped>\n",
       "    .dataframe tbody tr th:only-of-type {\n",
       "        vertical-align: middle;\n",
       "    }\n",
       "\n",
       "    .dataframe tbody tr th {\n",
       "        vertical-align: top;\n",
       "    }\n",
       "\n",
       "    .dataframe thead th {\n",
       "        text-align: right;\n",
       "    }\n",
       "</style>\n",
       "<table border=\"1\" class=\"dataframe\">\n",
       "  <thead>\n",
       "    <tr style=\"text-align: right;\">\n",
       "      <th></th>\n",
       "      <th>userid</th>\n",
       "      <th>version</th>\n",
       "    </tr>\n",
       "  </thead>\n",
       "  <tbody>\n",
       "  </tbody>\n",
       "</table>\n",
       "</div>"
      ],
      "text/plain": [
       "Empty DataFrame\n",
       "Columns: [userid, version]\n",
       "Index: []"
      ]
     },
     "execution_count": 67,
     "metadata": {},
     "output_type": "execute_result"
    }
   ],
   "source": [
    "df.groupby('userid', as_index=False).agg({'version': pd.Series.nunique}).query('version > 1')"
   ]
  },
  {
   "cell_type": "code",
   "execution_count": 68,
   "id": "5a1622c4",
   "metadata": {
    "colab": {
     "base_uri": "https://localhost:8080/"
    },
    "id": "5a1622c4",
    "outputId": "a337da83-b1b9-4d7e-ad65-51df95de1854"
   },
   "outputs": [
    {
     "data": {
      "text/plain": [
       "0"
      ]
     },
     "execution_count": 68,
     "metadata": {},
     "output_type": "execute_result"
    }
   ],
   "source": [
    "df.duplicated().sum()"
   ]
  },
  {
   "cell_type": "code",
   "execution_count": 69,
   "id": "19e26700",
   "metadata": {
    "colab": {
     "base_uri": "https://localhost:8080/"
    },
    "id": "19e26700",
    "outputId": "265c0ca1-47c2-4284-f904-b9dd427de9e8"
   },
   "outputs": [
    {
     "data": {
      "text/plain": [
       "90189"
      ]
     },
     "execution_count": 69,
     "metadata": {},
     "output_type": "execute_result"
    }
   ],
   "source": [
    "df[\"userid\"].nunique()"
   ]
  },
  {
   "cell_type": "code",
   "execution_count": 70,
   "id": "b01b1793",
   "metadata": {
    "colab": {
     "base_uri": "https://localhost:8080/",
     "height": 300
    },
    "id": "b01b1793",
    "outputId": "1be4d020-fc66-44a6-f4bd-4ce614bfa900"
   },
   "outputs": [
    {
     "data": {
      "text/html": [
       "<div>\n",
       "<style scoped>\n",
       "    .dataframe tbody tr th:only-of-type {\n",
       "        vertical-align: middle;\n",
       "    }\n",
       "\n",
       "    .dataframe tbody tr th {\n",
       "        vertical-align: top;\n",
       "    }\n",
       "\n",
       "    .dataframe thead th {\n",
       "        text-align: right;\n",
       "    }\n",
       "</style>\n",
       "<table border=\"1\" class=\"dataframe\">\n",
       "  <thead>\n",
       "    <tr style=\"text-align: right;\">\n",
       "      <th></th>\n",
       "      <th>sum_gamerounds</th>\n",
       "      <th>retention_1</th>\n",
       "      <th>retention_7</th>\n",
       "    </tr>\n",
       "  </thead>\n",
       "  <tbody>\n",
       "    <tr>\n",
       "      <th>count</th>\n",
       "      <td>90189.000000</td>\n",
       "      <td>90189.000000</td>\n",
       "      <td>90189.000000</td>\n",
       "    </tr>\n",
       "    <tr>\n",
       "      <th>mean</th>\n",
       "      <td>51.872457</td>\n",
       "      <td>0.445210</td>\n",
       "      <td>0.186065</td>\n",
       "    </tr>\n",
       "    <tr>\n",
       "      <th>std</th>\n",
       "      <td>195.050858</td>\n",
       "      <td>0.496992</td>\n",
       "      <td>0.389161</td>\n",
       "    </tr>\n",
       "    <tr>\n",
       "      <th>min</th>\n",
       "      <td>0.000000</td>\n",
       "      <td>0.000000</td>\n",
       "      <td>0.000000</td>\n",
       "    </tr>\n",
       "    <tr>\n",
       "      <th>25%</th>\n",
       "      <td>5.000000</td>\n",
       "      <td>0.000000</td>\n",
       "      <td>0.000000</td>\n",
       "    </tr>\n",
       "    <tr>\n",
       "      <th>50%</th>\n",
       "      <td>16.000000</td>\n",
       "      <td>0.000000</td>\n",
       "      <td>0.000000</td>\n",
       "    </tr>\n",
       "    <tr>\n",
       "      <th>75%</th>\n",
       "      <td>51.000000</td>\n",
       "      <td>1.000000</td>\n",
       "      <td>0.000000</td>\n",
       "    </tr>\n",
       "    <tr>\n",
       "      <th>max</th>\n",
       "      <td>49854.000000</td>\n",
       "      <td>1.000000</td>\n",
       "      <td>1.000000</td>\n",
       "    </tr>\n",
       "  </tbody>\n",
       "</table>\n",
       "</div>"
      ],
      "text/plain": [
       "       sum_gamerounds   retention_1   retention_7\n",
       "count    90189.000000  90189.000000  90189.000000\n",
       "mean        51.872457      0.445210      0.186065\n",
       "std        195.050858      0.496992      0.389161\n",
       "min          0.000000      0.000000      0.000000\n",
       "25%          5.000000      0.000000      0.000000\n",
       "50%         16.000000      0.000000      0.000000\n",
       "75%         51.000000      1.000000      0.000000\n",
       "max      49854.000000      1.000000      1.000000"
      ]
     },
     "execution_count": 70,
     "metadata": {},
     "output_type": "execute_result"
    }
   ],
   "source": [
    "df[['sum_gamerounds', 'retention_1', 'retention_7']].describe()"
   ]
  },
  {
   "cell_type": "markdown",
   "id": "a578933c",
   "metadata": {
    "id": "a578933c"
   },
   "source": [
    "Уберем аномальный выброс в поле sum_gamerounds."
   ]
  },
  {
   "cell_type": "code",
   "execution_count": 71,
   "id": "0cdda985",
   "metadata": {
    "id": "0cdda985"
   },
   "outputs": [],
   "source": [
    "df = df[df['sum_gamerounds'] < 49000]"
   ]
  },
  {
   "cell_type": "code",
   "execution_count": 72,
   "id": "872f067d",
   "metadata": {
    "colab": {
     "base_uri": "https://localhost:8080/"
    },
    "id": "872f067d",
    "outputId": "9c4e6fcd-b8f7-4156-957d-9cd562ee47b4"
   },
   "outputs": [
    {
     "data": {
      "text/plain": [
       "gate_40    45489\n",
       "gate_30    44699\n",
       "Name: version, dtype: int64"
      ]
     },
     "execution_count": 72,
     "metadata": {},
     "output_type": "execute_result"
    }
   ],
   "source": [
    "df['version'].value_counts()"
   ]
  },
  {
   "cell_type": "code",
   "execution_count": 73,
   "id": "309585be",
   "metadata": {
    "colab": {
     "base_uri": "https://localhost:8080/"
    },
    "id": "309585be",
    "outputId": "dbfe31bb-b89e-4a0d-f805-93aaa4511e24"
   },
   "outputs": [
    {
     "data": {
      "text/plain": [
       "0    50035\n",
       "1    40153\n",
       "Name: retention_1, dtype: int64"
      ]
     },
     "execution_count": 73,
     "metadata": {},
     "output_type": "execute_result"
    }
   ],
   "source": [
    "df['retention_1'].value_counts()"
   ]
  },
  {
   "cell_type": "code",
   "execution_count": 74,
   "id": "3d62b482",
   "metadata": {
    "colab": {
     "base_uri": "https://localhost:8080/"
    },
    "id": "3d62b482",
    "outputId": "704b917e-5960-45bb-ae41-c825ee452155"
   },
   "outputs": [
    {
     "data": {
      "text/plain": [
       "0    73408\n",
       "1    16780\n",
       "Name: retention_7, dtype: int64"
      ]
     },
     "execution_count": 74,
     "metadata": {},
     "output_type": "execute_result"
    }
   ],
   "source": [
    "df['retention_7'].value_counts()"
   ]
  },
  {
   "cell_type": "code",
   "execution_count": 75,
   "id": "05d46d88",
   "metadata": {
    "colab": {
     "base_uri": "https://localhost:8080/",
     "height": 143
    },
    "id": "05d46d88",
    "outputId": "ed0dba12-f1ae-4c9a-ce45-edc34c1bc4ec"
   },
   "outputs": [
    {
     "data": {
      "text/html": [
       "<div>\n",
       "<style scoped>\n",
       "    .dataframe tbody tr th:only-of-type {\n",
       "        vertical-align: middle;\n",
       "    }\n",
       "\n",
       "    .dataframe tbody tr th {\n",
       "        vertical-align: top;\n",
       "    }\n",
       "\n",
       "    .dataframe thead th {\n",
       "        text-align: right;\n",
       "    }\n",
       "</style>\n",
       "<table border=\"1\" class=\"dataframe\">\n",
       "  <thead>\n",
       "    <tr style=\"text-align: right;\">\n",
       "      <th></th>\n",
       "      <th>userid</th>\n",
       "      <th>retention_1</th>\n",
       "      <th>retention_7</th>\n",
       "      <th>sum_gamerounds</th>\n",
       "    </tr>\n",
       "    <tr>\n",
       "      <th>version</th>\n",
       "      <th></th>\n",
       "      <th></th>\n",
       "      <th></th>\n",
       "      <th></th>\n",
       "    </tr>\n",
       "  </thead>\n",
       "  <tbody>\n",
       "    <tr>\n",
       "      <th>gate_30</th>\n",
       "      <td>44699</td>\n",
       "      <td>0.448198</td>\n",
       "      <td>0.190183</td>\n",
       "      <td>2294941</td>\n",
       "    </tr>\n",
       "    <tr>\n",
       "      <th>gate_40</th>\n",
       "      <td>45489</td>\n",
       "      <td>0.442283</td>\n",
       "      <td>0.182000</td>\n",
       "      <td>2333530</td>\n",
       "    </tr>\n",
       "  </tbody>\n",
       "</table>\n",
       "</div>"
      ],
      "text/plain": [
       "         userid  retention_1  retention_7  sum_gamerounds\n",
       "version                                                  \n",
       "gate_30   44699     0.448198     0.190183         2294941\n",
       "gate_40   45489     0.442283     0.182000         2333530"
      ]
     },
     "execution_count": 75,
     "metadata": {},
     "output_type": "execute_result"
    }
   ],
   "source": [
    "df.groupby('version').agg({'userid': 'count', 'retention_1': 'mean', 'retention_7': 'mean', 'sum_gamerounds': sum})"
   ]
  },
  {
   "cell_type": "markdown",
   "id": "18c268da",
   "metadata": {
    "id": "18c268da"
   },
   "source": [
    "**Анализ исходных данных показал**:\n",
    "1. Пустых данных в выборке нет.\n",
    "2. Количество пользователей в группах gate_30/gate_40 примерно одинаковое, дублей в userid нет - система сплитования трафика отработала хорошо.\n",
    "3. Отрицательных (ошибочных) значений в выборке нет.\n",
    "4. Поле version имеет два значения gate_30/gate_40 - ошибочных значений нет.\n",
    "5. Поля retention_1 и retention_7 содержит два значения: 0/1 - ошибочных значений нет.\n"
   ]
  },
  {
   "cell_type": "markdown",
   "metadata": {},
   "source": [
    "\n",
    "### Метрика: количество раундов, сыгранных каждым игроком в течение первых 14 дней после установки (**_sum_gamerounds_**).\n",
    "\n"
   ]
  },
  {
   "cell_type": "markdown",
   "metadata": {},
   "source": [
    "<u>Проверим данные на нормальность.</u>"
   ]
  },
  {
   "cell_type": "code",
   "execution_count": 76,
   "id": "23a66aa6",
   "metadata": {
    "id": "23a66aa6"
   },
   "outputs": [],
   "source": [
    "A = df.query('version == \"gate_30\"')\n",
    "B = df.query('version == \"gate_40\"')\n",
    "n1, n2 = A.shape[0], B.shape[0]"
   ]
  },
  {
   "cell_type": "code",
   "execution_count": 77,
   "id": "5e6a1f61",
   "metadata": {
    "colab": {
     "base_uri": "https://localhost:8080/",
     "height": 450
    },
    "id": "5e6a1f61",
    "outputId": "c3398ed3-0fab-43bd-ea54-5dbf3bca6fea"
   },
   "outputs": [
    {
     "data": {
      "image/png": "[encoded data removed]",
      "text/plain": [
       "<Figure size 640x480 with 2 Axes>"
      ]
     },
     "metadata": {},
     "output_type": "display_data"
    }
   ],
   "source": [
    "fig, ax = plt.subplots(2, 1, gridspec_kw={'height_ratios': [0.5, 2.5]})\n",
    "sns.boxplot(x=A['sum_gamerounds'], ax=ax[0]);\n",
    "sns.histplot(A['sum_gamerounds'], bins=100, ax=ax[1]);"
   ]
  },
  {
   "cell_type": "code",
   "execution_count": 78,
   "id": "89992f44",
   "metadata": {
    "colab": {
     "base_uri": "https://localhost:8080/",
     "height": 450
    },
    "id": "89992f44",
    "outputId": "d3addff7-a747-40c4-e793-8cc7b13b15ab"
   },
   "outputs": [
    {
     "data": {
      "image/png": "[encoded data removed]",
      "text/plain": [
       "<Figure size 640x480 with 2 Axes>"
      ]
     },
     "metadata": {},
     "output_type": "display_data"
    }
   ],
   "source": [
    "fig, ax = plt.subplots(2, 1, gridspec_kw={'height_ratios': [0.5, 2.5]})\n",
    "sns.boxplot(x=B['sum_gamerounds'], ax=ax[0]);\n",
    "sns.histplot(B['sum_gamerounds'], bins=100, ax=ax[1]);"
   ]
  },
  {
   "cell_type": "code",
   "execution_count": 79,
   "id": "e7750859",
   "metadata": {
    "colab": {
     "base_uri": "https://localhost:8080/",
     "height": 564
    },
    "id": "e7750859",
    "outputId": "91d870f4-9f04-4bb7-9618-ebeb63d07f2e"
   },
   "outputs": [
    {
     "data": {
      "image/png": "[encoded data removed]",
      "text/plain": [
       "<Figure size 1200x600 with 2 Axes>"
      ]
     },
     "metadata": {},
     "output_type": "display_data"
    }
   ],
   "source": [
    "plt.figure(figsize = [6*2, 6])\n",
    "\n",
    "plt.subplot(1, 2, 1)\n",
    "norm = stats.probplot(A['sum_gamerounds'], dist=\"norm\", plot=plt)\n",
    "\n",
    "plt.subplot(1, 2, 2)\n",
    "norm = stats.probplot(B['sum_gamerounds'], dist=\"norm\", plot=plt)"
   ]
  },
  {
   "cell_type": "code",
   "execution_count": 80,
   "id": "bfc621a7",
   "metadata": {
    "colab": {
     "base_uri": "https://localhost:8080/"
    },
    "id": "bfc621a7",
    "outputId": "f40dd987-db45-43c3-9309-894875f5df1a"
   },
   "outputs": [
    {
     "data": {
      "text/plain": [
       "KstestResult(statistic=0.8724153079945488, pvalue=0.0, statistic_location=2, statistic_sign=-1)"
      ]
     },
     "execution_count": 80,
     "metadata": {},
     "output_type": "execute_result"
    }
   ],
   "source": [
    "stats.kstest(A['sum_gamerounds'], 'norm')"
   ]
  },
  {
   "cell_type": "markdown",
   "id": "ce029539",
   "metadata": {
    "id": "ce029539"
   },
   "source": [
    "p-value < 0.05, следовательно предположение о нормальном распределении в контрольной группе (gate_30) **не** верно."
   ]
  },
  {
   "cell_type": "code",
   "execution_count": 81,
   "id": "eb97dae1",
   "metadata": {
    "colab": {
     "base_uri": "https://localhost:8080/"
    },
    "id": "eb97dae1",
    "outputId": "91629c67-99b0-40b7-dc86-eb8add9128d8"
   },
   "outputs": [
    {
     "data": {
      "text/plain": [
       "KstestResult(statistic=0.8707186187388001, pvalue=0.0, statistic_location=2, statistic_sign=-1)"
      ]
     },
     "execution_count": 81,
     "metadata": {},
     "output_type": "execute_result"
    }
   ],
   "source": [
    "stats.kstest(B['sum_gamerounds'], 'norm')"
   ]
  },
  {
   "cell_type": "markdown",
   "id": "ce029539",
   "metadata": {
    "id": "ce029539"
   },
   "source": [
    "p-value < 0.05, следовательно предположение о нормальном распределении в тестовой группе (gate_40) **не** верно."
   ]
  },
  {
   "cell_type": "markdown",
   "id": "23b4ba12",
   "metadata": {
    "id": "23b4ba12"
   },
   "source": [
    "Данные распределены ненормально, поэтому для оценки равенства средних начений двух выборок используем критерий Манна-Уитни."
   ]
  },
  {
   "cell_type": "code",
   "execution_count": 82,
   "id": "d0b9c816",
   "metadata": {
    "colab": {
     "base_uri": "https://localhost:8080/"
    },
    "id": "d0b9c816",
    "outputId": "09257a94-0747-4ce1-dcac-d6d04f8947b8"
   },
   "outputs": [
    {
     "data": {
      "text/plain": [
       "MannwhitneyuResult(statistic=1024285761.5, pvalue=0.05089155279145376)"
      ]
     },
     "execution_count": 82,
     "metadata": {},
     "output_type": "execute_result"
    }
   ],
   "source": [
    "stats.mannwhitneyu(x=A['sum_gamerounds'].values,\n",
    "                   y=B['sum_gamerounds'].values)"
   ]
  },
  {
   "cell_type": "markdown",
   "id": "c1253962",
   "metadata": {
    "id": "c1253962"
   },
   "source": [
    "_Вывод._  \n",
    "Так как p-value > 0.05 то мы принимаем нулевую гипотезу о равенстве средних значений количества раундов в двух выборках, т.е. между gate_30 и gate_40 статистически значимых различий в прохождении игры нет."
   ]
  },
  {
   "cell_type": "markdown",
   "metadata": {},
   "source": [
    "<u>Проверим, достаточна ли была мощность наших выборок, чтобы анализировать результаты.</u>"
   ]
  },
  {
   "cell_type": "code",
   "execution_count": 83,
   "id": "b759e968",
   "metadata": {
    "colab": {
     "base_uri": "https://localhost:8080/"
    },
    "id": "b759e968",
    "outputId": "0d34d77c-c2de-42f3-8ba9-f9f610daf6b6"
   },
   "outputs": [
    {
     "data": {
      "text/plain": [
       "0.0004220261663114191"
      ]
     },
     "execution_count": 83,
     "metadata": {},
     "output_type": "execute_result"
    }
   ],
   "source": [
    "Ma, Mb = A['sum_gamerounds'].mean(), B['sum_gamerounds'].mean()\n",
    "Da, Db = A['sum_gamerounds'].var(), B['sum_gamerounds'].var()\n",
    "\n",
    "effect_size = (Ma-Mb)/np.sqrt(((n1-1)*Da + (n2-1)*Db)/(n1+n2-2))\n",
    "effect_size"
   ]
  },
  {
   "cell_type": "code",
   "execution_count": 84,
   "id": "e09eb2ee",
   "metadata": {
    "colab": {
     "base_uri": "https://localhost:8080/"
    },
    "id": "e09eb2ee",
    "outputId": "3369e404-afb5-4e96-b439-b46d4c4ba7ab"
   },
   "outputs": [
    {
     "data": {
      "text/plain": [
       "0.05046009024737237"
      ]
     },
     "execution_count": 84,
     "metadata": {},
     "output_type": "execute_result"
    }
   ],
   "source": [
    "analysis = smp.TTestIndPower()\n",
    "analysis.solve_power(effect_size=effect_size, alpha=0.05, power=None, nobs1=n1, ratio=n2/n1)"
   ]
  },
  {
   "cell_type": "markdown",
   "id": "30588cc2",
   "metadata": {
    "id": "30588cc2"
   },
   "source": [
    "_Вывод._\n",
    "Мощность теста для набора данных (5%) очень низкая. С такой мощностью мы не можем быть уверены в результатах теста. Мы могли не получить статистически значимую разницу, т.к. у нас недостаточный объем выборки. Эксперименты могли быть поставлены или проведены некорректно, или мала длительность.\n",
    "\n",
    "**Рекомендация: рассчитать требуемый размер выборки и избегать преждевременной остановки теста**."
   ]
  },
  {
   "cell_type": "code",
   "execution_count": 85,
   "id": "29f55984",
   "metadata": {
    "colab": {
     "base_uri": "https://localhost:8080/"
    },
    "id": "29f55984",
    "outputId": "cfa2f4fe-f9ff-46fa-cf62-f10e7ac1f3b3"
   },
   "outputs": [
    {
     "data": {
      "text/plain": [
       "156978.172860403"
      ]
     },
     "execution_count": 85,
     "metadata": {},
     "output_type": "execute_result"
    }
   ],
   "source": [
    "analysis.solve_power(effect_size=0.01, alpha=0.05, power=0.8, nobs1=None, ratio=1)"
   ]
  },
  {
   "cell_type": "markdown",
   "id": "bce66438",
   "metadata": {
    "id": "bce66438"
   },
   "source": [
    "_Вывод._  \n",
    "Для достоверного обнаружения эффекта в 1% нужно провести не менее $157000$ испытаний в каждой группе, итого $157000 \\cdot 2 = 314000$. "
   ]
  },
  {
   "cell_type": "markdown",
   "id": "3721a38a",
   "metadata": {
    "id": "3721a38a"
   },
   "source": [
    "### Метрика: возвращение игрока в игру через 1 день после установки (**retention_1**)"
   ]
  },
  {
   "cell_type": "markdown",
   "metadata": {},
   "source": [
    "Проведем Z-тест пропорций на уровне значимости $\\alpha=0.05$\n",
    "\n",
    "$H_0: p_1 = p_2 \\\\\n",
    "H_1: p1 \\not= p_2$\n",
    "\n",
    "$p_1 = \\cfrac{m_1}{n_1}, p_2 = \\cfrac{m_2}{n_2}$"
   ]
  },
  {
   "cell_type": "code",
   "execution_count": 86,
   "id": "0fbcf24d",
   "metadata": {
    "colab": {
     "base_uri": "https://localhost:8080/"
    },
    "id": "0fbcf24d",
    "outputId": "77b50963-7397-4114-8ef4-3eab4b1c7b7b"
   },
   "outputs": [
    {
     "data": {
      "text/plain": [
       "(1.787103509763628, 0.0739207603418346)"
      ]
     },
     "execution_count": 86,
     "metadata": {},
     "output_type": "execute_result"
    }
   ],
   "source": [
    "m1 = A['retention_1'].sum()\n",
    "m2 = B['retention_1'].sum()\n",
    "\n",
    "proportion.proportions_ztest(np.array([m1, m2]), np.array([n1, n2]), alternative='two-sided')"
   ]
  },
  {
   "cell_type": "markdown",
   "id": "9d75650a",
   "metadata": {
    "id": "9d75650a"
   },
   "source": [
    "_Вывод._  \n",
    "Так как p-value > 0.05 то мы **принимаем** нулевую гипотезу о равенстве доли вернувшихся в игру через 1 день в двух выборках. \\\n",
    "В группах gate_30 и gate_40 **не** обнаружены статистически значимые отличия по метрике **retention_1**."
   ]
  },
  {
   "cell_type": "markdown",
   "id": "620fbdbb",
   "metadata": {
    "id": "620fbdbb"
   },
   "source": [
    "### Метрика: возвращение игрока в игру через 7 день после установки (**retention_7**)"
   ]
  },
  {
   "cell_type": "markdown",
   "metadata": {},
   "source": [
    "Проведем Z-тест пропорций на уровне значимости $\\alpha=0.05$\n",
    "\n",
    "$H_0: p_1 = p_2 \\\\\n",
    "H_1: p1 \\not= p_2$\n",
    "\n",
    "$p_1 = \\cfrac{m_1}{n_1}, p_2 = \\cfrac{m_2}{n_2}$"
   ]
  },
  {
   "cell_type": "code",
   "execution_count": 87,
   "id": "296f2f3e",
   "metadata": {
    "colab": {
     "base_uri": "https://localhost:8080/"
    },
    "id": "296f2f3e",
    "outputId": "d3c876be-2d31-422a-a20c-7fe3c5231206"
   },
   "outputs": [
    {
     "data": {
      "text/plain": [
       "(3.1574100858819936, 0.0015917731773993442)"
      ]
     },
     "execution_count": 87,
     "metadata": {},
     "output_type": "execute_result"
    }
   ],
   "source": [
    "m1 = A.query('retention_7 == 1')['retention_7'].sum()\n",
    "m2 = B.query('retention_7 == 1')['retention_7'].sum()\n",
    "\n",
    "proportion.proportions_ztest(np.array([m1, m2]), np.array([n1, n2]))"
   ]
  },
  {
   "cell_type": "markdown",
   "id": "213ea2bd",
   "metadata": {
    "id": "213ea2bd"
   },
   "source": [
    "_Вывод._  \n",
    "Так как p-value < 0.05 то мы **отвергаем** нулевую гипотезу о равенстве доли вернувшихся в игру через 7 день в двух выборках. \\\n",
    "В группах gate_30 и gate_40 обнаружены статистически значимые отличия по **retention_7**."
   ]
  },
  {
   "cell_type": "code",
   "execution_count": 88,
   "metadata": {
    "colab": {
     "base_uri": "https://localhost:8080/",
     "height": 472
    },
    "id": "HTtfsKLaebUO",
    "outputId": "2a697060-d69e-4442-b6f9-3ef5a9d8dade"
   },
   "outputs": [
    {
     "data": {
      "image/png": "[encoded data removed]",
      "text/plain": [
       "<Figure size 640x480 with 1 Axes>"
      ]
     },
     "metadata": {},
     "output_type": "display_data"
    }
   ],
   "source": [
    "boot_1d = []\n",
    "iterations=500\n",
    "for i in range(iterations):\n",
    "    boot_mean = df.sample(frac=1, replace=True).groupby(\n",
    "        'version')['retention_1'].mean()\n",
    "    boot_1d.append(boot_mean)\n",
    "    \n",
    "boot_1d = pd.DataFrame(boot_1d)\n",
    "    \n",
    "ax = boot_1d.plot.kde()\n",
    "ax.set_title('Bootstrapped 1-Day Retention Means for each AB-group')\n",
    "ax.set_xlabel('Mean 1-Day Retention');"
   ]
  },
  {
   "cell_type": "code",
   "execution_count": 89,
   "metadata": {
    "colab": {
     "base_uri": "https://localhost:8080/",
     "height": 472
    },
    "id": "9XIpoFnmeilE",
    "outputId": "1fbf9859-a7af-4aeb-ee7b-ecd16027f1c9"
   },
   "outputs": [
    {
     "data": {
      "image/png": "[encoded data removed]",
      "text/plain": [
       "<Figure size 640x480 with 1 Axes>"
      ]
     },
     "metadata": {},
     "output_type": "display_data"
    }
   ],
   "source": [
    "boot_1d['diff'] = ((boot_1d.gate_30 - boot_1d.gate_40)\n",
    "                   / boot_1d.gate_40 * 100)\n",
    "\n",
    "ax = boot_1d['diff'].plot.kde()\n",
    "ax.set_xlabel('Percent Difference in Means')\n",
    "ax.set_title('Bootstrap % Difference in 1-Day Retention Means');"
   ]
  },
  {
   "cell_type": "code",
   "execution_count": 90,
   "metadata": {
    "colab": {
     "base_uri": "https://localhost:8080/",
     "height": 490
    },
    "id": "0CBX48Dberua",
    "outputId": "b92a51b8-91cb-4e23-c663-f2d9ca19abd5"
   },
   "outputs": [
    {
     "data": {
      "text/plain": [
       "'100.0%'"
      ]
     },
     "execution_count": 90,
     "metadata": {},
     "output_type": "execute_result"
    },
    {
     "data": {
      "image/png": "[encoded data removed]",
      "text/plain": [
       "<Figure size 640x480 with 1 Axes>"
      ]
     },
     "metadata": {},
     "output_type": "display_data"
    }
   ],
   "source": [
    "boot_7d = []\n",
    "for i in range(500):\n",
    "    boot_mean = df.sample(frac=1, replace=True).groupby(\n",
    "        'version')['retention_7'].mean()\n",
    "    boot_7d.append(boot_mean)\n",
    "    \n",
    "boot_7d = pd.DataFrame(boot_7d)\n",
    "\n",
    "boot_7d['diff'] = ((boot_7d['gate_30'] - boot_7d['gate_40']) / \n",
    "                   boot_7d['gate_40'] * 100)\n",
    "\n",
    "ax = boot_7d['diff'].plot.kde()\n",
    "ax.set_xlabel(\"% difference in means\")\n",
    "ax.set_title('Bootstrap % Difference in 7-Day Retention Means');\n",
    "\n",
    "prob = (boot_7d['diff'] > 0).mean()\n",
    "\n",
    "'{0:.1%}'.format(prob)"
   ]
  },
  {
   "cell_type": "markdown",
   "metadata": {
    "id": "JBqrzGe_e9n4"
   },
   "source": [
    "_Вывод._  \n",
    "Результат bootstrap говорит нам о том, что существуют убедительные доказательства того, что 7-дневное \"удержание\"(Retention) выше, когда \"ворота\" находятся на уровне 30, чем когда они находятся на уровне 40.  \n",
    "Если мы хотим сохранить высокое \"удержание\" — и 1-дневное, и 7-дневное  \"удержание\" — мы не должны перемещать \"ворота\" с уровня 30 на уровень 40.\n",
    "\n",
    "Иными словами, когда \"ворота\" перемещаются на уровень 40, меньше игроков дойдут до них и они с большей вероятностью покинут игру навсегда."
   ]
  },
  {
   "cell_type": "markdown",
   "id": "16662990",
   "metadata": {
    "id": "16662990"
   },
   "source": [
    "**В итоге рекомендуется:**\n",
    "1. Не вводить изменения по перемещению ворот на уровень 40.\n",
    "2. Увеличить размер выборки до 314000 пользователей. Это позволит поднять мощность тестов по выбранным метрикам и получать более объективную оценку вводимых в игру изменений.\n",
    "3. Уточнить дизайн А/В теста и запустить его заново."
   ]
  }
 ],
 "metadata": {
  "kernelspec": {
   "display_name": "Python 3.11.2 64-bit",
   "language": "python",
   "name": "python3"
  },
  "language_info": {
   "codemirror_mode": {
    "name": "ipython",
    "version": 3
   },
   "file_extension": ".py",
   "mimetype": "text/x-python",
   "name": "python",
   "nbconvert_exporter": "python",
   "pygments_lexer": "ipython3",
   "version": "3.11.2"
  },
  "orig_nbformat": 4,
  "vscode": {
   "interpreter": {
    "hash": "c6bda570d439cef0b73331d70d74997e8c54be07738a0bdb7ee077605f256bd9"
   }
  }
 },
 "nbformat": 4,
 "nbformat_minor": 2
}
